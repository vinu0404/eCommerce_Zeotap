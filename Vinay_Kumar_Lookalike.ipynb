{
 "cells": [
  {
   "cell_type": "markdown",
   "metadata": {},
   "source": [
    "### Calculating Similarity Score for segmentation, marketing, or recommendation tasks"
   ]
  },
  {
   "cell_type": "code",
   "execution_count": 7,
   "metadata": {},
   "outputs": [
    {
     "name": "stdout",
     "output_type": "stream",
     "text": [
      "Lookalike model completed\n"
     ]
    }
   ],
   "source": [
    "import pandas as pd\n",
    "import numpy as np\n",
    "from sklearn.metrics.pairwise import cosine_similarity\n",
    "from sklearn.preprocessing import StandardScaler, OneHotEncoder\n",
    "from sklearn.compose import ColumnTransformer\n",
    "from sklearn.pipeline import Pipeline\n",
    "\n",
    "customers = pd.read_csv('Customers.csv')\n",
    "products = pd.read_csv('Products.csv')\n",
    "transactions = pd.read_csv('Transactions.csv')\n",
    "merged_data = transactions.merge(products, on='ProductID').merge(customers, on='CustomerID')\n",
    "\n",
    "customer_features = merged_data.groupby('CustomerID').agg(\n",
    "    total_spent=('TotalValue', 'sum'),\n",
    "    avg_transaction_value=('TotalValue', 'mean'),\n",
    "    total_transactions=('TransactionID', 'count'),\n",
    "    unique_products=('ProductID', 'nunique'),\n",
    "    favorite_category=('Category', lambda x: x.mode()[0])\n",
    ").reset_index()\n",
    "customer_features = customer_features.merge(customers[['CustomerID', 'Region']], on='CustomerID')\n",
    "\n",
    "categorical_features = ['favorite_category', 'Region']\n",
    "numerical_features = ['total_spent', 'avg_transaction_value', 'total_transactions', 'unique_products']\n",
    "\n",
    "preprocessor = ColumnTransformer(\n",
    "    transformers=[\n",
    "        ('num', StandardScaler(), numerical_features),\n",
    "        ('cat', OneHotEncoder(), categorical_features)\n",
    "    ]\n",
    ")\n",
    "X = preprocessor.fit_transform(customer_features)\n",
    "\n",
    "similarity_matrix = cosine_similarity(X)\n",
    "\n",
    "def get_top_3_lookalikes(customer_index, similarity_matrix, customer_ids):\n",
    "    similarities = list(enumerate(similarity_matrix[customer_index]))\n",
    "    similarities = sorted(similarities, key=lambda x: x[1], reverse=True)\n",
    "    top_3 = [(customer_ids[i], score) for i, score in similarities[1:4]] \n",
    "    return top_3\n",
    "customer_ids = customer_features['CustomerID'].tolist()\n",
    "lookalike_results = {}\n",
    "\n",
    "for i, customer_id in enumerate(customer_ids[:20]):\n",
    "    lookalike_results[customer_id] = get_top_3_lookalikes(i, similarity_matrix, customer_ids)\n",
    "\n",
    "lookalike_df = pd.DataFrame([\n",
    "    {'CustomerID': cust_id, 'Lookalikes': lookalikes}\n",
    "    for cust_id, lookalikes in lookalike_results.items()\n",
    "])\n",
    "\n",
    "lookalike_df['Lookalikes'] = lookalike_df['Lookalikes'].apply(lambda x: [{'CustomerID': cust[0], 'Score': round(cust[1], 4)} for cust in x])\n",
    "lookalike_df.to_csv('Lookalike.csv', index=False)\n",
    "\n",
    "print(\"Lookalike model completed\")\n"
   ]
  },
  {
   "cell_type": "markdown",
   "metadata": {},
   "source": [
    "#### Cross Checking score for the customer who are in same list "
   ]
  },
  {
   "cell_type": "code",
   "execution_count": 8,
   "metadata": {},
   "outputs": [
    {
     "name": "stdout",
     "output_type": "stream",
     "text": [
      "Similarity score between C0002 and C0088: 0.9388\n"
     ]
    }
   ],
   "source": [
    "merged_data = transactions.merge(products, on='ProductID').merge(customers, on='CustomerID')\n",
    "\n",
    "customer_features = merged_data.groupby('CustomerID').agg(\n",
    "    total_spent=('TotalValue', 'sum'),\n",
    "    avg_transaction_value=('TotalValue', 'mean'),\n",
    "    total_transactions=('TransactionID', 'count'),\n",
    "    unique_products=('ProductID', 'nunique'),\n",
    "    favorite_category=('Category', lambda x: x.mode()[0])\n",
    ").reset_index()\n",
    "\n",
    "customer_features = customer_features.merge(customers[['CustomerID', 'Region']], on='CustomerID')\n",
    "\n",
    "categorical_features = ['favorite_category', 'Region']\n",
    "numerical_features = ['total_spent', 'avg_transaction_value', 'total_transactions', 'unique_products']\n",
    "\n",
    "preprocessor = ColumnTransformer(\n",
    "    transformers=[\n",
    "        ('num', StandardScaler(), numerical_features),\n",
    "        ('cat', OneHotEncoder(), categorical_features)\n",
    "    ]\n",
    ")\n",
    "X = preprocessor.fit_transform(customer_features)\n",
    "similarity_matrix = cosine_similarity(X)\n",
    "\n",
    "\n",
    "def calculate_pair_similarity(customer_id1, customer_id2, customer_features, preprocessor):\n",
    "    customer1 = customer_features[customer_features['CustomerID'] == customer_id1]\n",
    "    customer2 = customer_features[customer_features['CustomerID'] == customer_id2]\n",
    "    customer1_processed = preprocessor.transform(customer1)\n",
    "    customer2_processed = preprocessor.transform(customer2)\n",
    "    similarity = cosine_similarity(customer1_processed, customer2_processed)[0][0]\n",
    "    return similarity\n",
    "\n",
    "# Cross-check similarity for specific customer ID\n",
    "customer_id1 = 'C0002'\n",
    "customer_id2 = 'C0088'\n",
    "similarity_score = calculate_pair_similarity(customer_id1, customer_id2, customer_features, preprocessor)\n",
    "print(f\"Similarity score between {customer_id1} and {customer_id2}: {similarity_score:.4f}\")\n"
   ]
  },
  {
   "cell_type": "code",
   "execution_count": null,
   "metadata": {},
   "outputs": [],
   "source": []
  },
  {
   "cell_type": "code",
   "execution_count": null,
   "metadata": {},
   "outputs": [],
   "source": []
  },
  {
   "cell_type": "code",
   "execution_count": null,
   "metadata": {},
   "outputs": [],
   "source": []
  },
  {
   "cell_type": "code",
   "execution_count": null,
   "metadata": {},
   "outputs": [],
   "source": []
  },
  {
   "cell_type": "code",
   "execution_count": null,
   "metadata": {},
   "outputs": [],
   "source": []
  },
  {
   "cell_type": "code",
   "execution_count": null,
   "metadata": {},
   "outputs": [],
   "source": []
  },
  {
   "cell_type": "code",
   "execution_count": null,
   "metadata": {},
   "outputs": [],
   "source": []
  },
  {
   "cell_type": "code",
   "execution_count": null,
   "metadata": {},
   "outputs": [],
   "source": []
  },
  {
   "cell_type": "code",
   "execution_count": null,
   "metadata": {},
   "outputs": [],
   "source": []
  },
  {
   "cell_type": "code",
   "execution_count": null,
   "metadata": {},
   "outputs": [],
   "source": []
  },
  {
   "cell_type": "code",
   "execution_count": null,
   "metadata": {},
   "outputs": [],
   "source": []
  },
  {
   "cell_type": "code",
   "execution_count": null,
   "metadata": {},
   "outputs": [],
   "source": []
  },
  {
   "cell_type": "code",
   "execution_count": null,
   "metadata": {},
   "outputs": [],
   "source": []
  },
  {
   "cell_type": "code",
   "execution_count": null,
   "metadata": {},
   "outputs": [],
   "source": []
  },
  {
   "cell_type": "code",
   "execution_count": null,
   "metadata": {},
   "outputs": [],
   "source": []
  },
  {
   "cell_type": "code",
   "execution_count": null,
   "metadata": {},
   "outputs": [],
   "source": []
  },
  {
   "cell_type": "code",
   "execution_count": null,
   "metadata": {},
   "outputs": [],
   "source": []
  },
  {
   "cell_type": "code",
   "execution_count": null,
   "metadata": {},
   "outputs": [],
   "source": []
  }
 ],
 "metadata": {
  "kernelspec": {
   "display_name": "base",
   "language": "python",
   "name": "python3"
  },
  "language_info": {
   "codemirror_mode": {
    "name": "ipython",
    "version": 3
   },
   "file_extension": ".py",
   "mimetype": "text/x-python",
   "name": "python",
   "nbconvert_exporter": "python",
   "pygments_lexer": "ipython3",
   "version": "3.12.4"
  }
 },
 "nbformat": 4,
 "nbformat_minor": 2
}
